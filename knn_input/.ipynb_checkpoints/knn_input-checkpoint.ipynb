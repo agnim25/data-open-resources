{
 "cells": [
  {
   "cell_type": "code",
   "execution_count": 1,
   "metadata": {},
   "outputs": [],
   "source": [
    "import numpy as np\n",
    "import pandas as pd"
   ]
  },
  {
   "cell_type": "code",
   "execution_count": 19,
   "metadata": {},
   "outputs": [],
   "source": [
    "url = \"https://raw.githubusercontent.com/jbrownlee/Datasets/master/horse-colic.csv\"\n",
    "df = pd.read_csv(url, header=None, na_values = '?')"
   ]
  },
  {
   "cell_type": "code",
   "execution_count": 21,
   "metadata": {},
   "outputs": [
    {
     "name": "stdout",
     "output_type": "stream",
     "text": [
      "> 0, Missing: 1 (0.3%)\n",
      "> 1, Missing: 0 (0.0%)\n",
      "> 2, Missing: 0 (0.0%)\n",
      "> 3, Missing: 60 (20.0%)\n",
      "> 4, Missing: 24 (8.0%)\n",
      "> 5, Missing: 58 (19.3%)\n",
      "> 6, Missing: 56 (18.7%)\n",
      "> 7, Missing: 69 (23.0%)\n",
      "> 8, Missing: 47 (15.7%)\n",
      "> 9, Missing: 32 (10.7%)\n",
      "> 10, Missing: 55 (18.3%)\n",
      "> 11, Missing: 44 (14.7%)\n",
      "> 12, Missing: 56 (18.7%)\n",
      "> 13, Missing: 104 (34.7%)\n",
      "> 14, Missing: 106 (35.3%)\n",
      "> 15, Missing: 247 (82.3%)\n",
      "> 16, Missing: 102 (34.0%)\n",
      "> 17, Missing: 118 (39.3%)\n",
      "> 18, Missing: 29 (9.7%)\n",
      "> 19, Missing: 33 (11.0%)\n",
      "> 20, Missing: 165 (55.0%)\n",
      "> 21, Missing: 198 (66.0%)\n",
      "> 22, Missing: 1 (0.3%)\n",
      "> 23, Missing: 0 (0.0%)\n",
      "> 24, Missing: 0 (0.0%)\n",
      "> 25, Missing: 0 (0.0%)\n",
      "> 26, Missing: 0 (0.0%)\n",
      "> 27, Missing: 0 (0.0%)\n"
     ]
    }
   ],
   "source": [
    "dataframe = df\n",
    "for i in range(dataframe.shape[1]):\n",
    "    # count number of rows with missing values\n",
    "    n_miss = dataframe[[i]].isnull().sum()\n",
    "    perc = n_miss / dataframe.shape[0] * 100\n",
    "    print('> %d, Missing: %d (%.1f%%)' % (i, n_miss, perc))"
   ]
  },
  {
   "cell_type": "code",
   "execution_count": 22,
   "metadata": {},
   "outputs": [],
   "source": [
    "from sklearn.impute import KNNImputer"
   ]
  },
  {
   "cell_type": "code",
   "execution_count": 24,
   "metadata": {},
   "outputs": [],
   "source": [
    "n_neighbors = 5\n",
    "# How to choose this? Cross-validation? What about in the case of unsupervised learning?\n",
    "\n",
    "imputer = KNNImputer(n_neighbors = n_neighbors, weights = 'uniform', metric = 'nan_euclidean')"
   ]
  },
  {
   "cell_type": "code",
   "execution_count": 30,
   "metadata": {},
   "outputs": [],
   "source": [
    "# Look at results for imputation for dim 16 and 17\n",
    "missing_idx = df[[16, 17]].isna().any(axis = 1)\n",
    "missing = df[missing_idx]\n",
    "not_missing = df[~missing_idx]"
   ]
  },
  {
   "cell_type": "code",
   "execution_count": 33,
   "metadata": {},
   "outputs": [],
   "source": [
    "X = df.drop([23])"
   ]
  },
  {
   "cell_type": "code",
   "execution_count": 36,
   "metadata": {},
   "outputs": [],
   "source": [
    "imputer.fit(X)\n",
    "Xtrans = imputer.transform(X)"
   ]
  },
  {
   "cell_type": "code",
   "execution_count": 44,
   "metadata": {},
   "outputs": [
    {
     "name": "stderr",
     "output_type": "stream",
     "text": [
      "/Users/bguo/opt/anaconda3/lib/python3.6/site-packages/ipykernel_launcher.py:2: UserWarning: Boolean Series key will be reindexed to match DataFrame index.\n",
      "  \n"
     ]
    }
   ],
   "source": [
    "Xtrans = pd.DataFrame(Xtrans)\n",
    "Xtrans_missing = Xtrans[missing_idx]"
   ]
  },
  {
   "cell_type": "code",
   "execution_count": 52,
   "metadata": {},
   "outputs": [
    {
     "name": "stderr",
     "output_type": "stream",
     "text": [
      "/Users/bguo/opt/anaconda3/lib/python3.6/site-packages/ipykernel_launcher.py:3: UserWarning: Boolean Series key will be reindexed to match DataFrame index.\n",
      "  This is separate from the ipykernel package so we can avoid doing imports until\n",
      "/Users/bguo/opt/anaconda3/lib/python3.6/site-packages/ipykernel_launcher.py:4: UserWarning: Boolean Series key will be reindexed to match DataFrame index.\n",
      "  after removing the cwd from sys.path.\n"
     ]
    },
    {
     "data": {
      "text/plain": [
       "[<matplotlib.lines.Line2D at 0x7fa830b82940>,\n",
       " <matplotlib.lines.Line2D at 0x7fa830b82ac8>]"
      ]
     },
     "execution_count": 52,
     "metadata": {},
     "output_type": "execute_result"
    },
    {
     "data": {
      "image/png": "[encoded data removed]",
      "text/plain": [
       "<Figure size 432x288 with 1 Axes>"
      ]
     },
     "metadata": {
      "needs_background": "light"
     },
     "output_type": "display_data"
    }
   ],
   "source": [
    "import matplotlib.pyplot as plt\n",
    "temp = Xtrans[[5, 6]]\n",
    "plt.plot(temp[~missing_idx], 'o', c = \"red\")\n",
    "plt.plot(temp[missing_idx], 'o', c = \"blue\")"
   ]
  },
  {
   "cell_type": "code",
   "execution_count": null,
   "metadata": {},
   "outputs": [],
   "source": []
  }
 ],
 "metadata": {
  "kernelspec": {
   "display_name": "Python 3",
   "language": "python",
   "name": "python3"
  },
  "language_info": {
   "codemirror_mode": {
    "name": "ipython",
    "version": 3
   },
   "file_extension": ".py",
   "mimetype": "text/x-python",
   "name": "python",
   "nbconvert_exporter": "python",
   "pygments_lexer": "ipython3",
   "version": "3.6.10"
  }
 },
 "nbformat": 4,
 "nbformat_minor": 4
}
